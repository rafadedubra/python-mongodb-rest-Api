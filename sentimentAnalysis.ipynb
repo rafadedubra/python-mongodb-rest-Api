{
 "cells": [
  {
   "cell_type": "code",
   "execution_count": 1,
   "metadata": {},
   "outputs": [
    {
     "name": "stderr",
     "output_type": "stream",
     "text": [
      "[nltk_data] Downloading package vader_lexicon to C:\\Users\\Rafa\n",
      "[nltk_data]     OpSeeker\\AppData\\Roaming\\nltk_data...\n",
      "[nltk_data]   Package vader_lexicon is already up-to-date!\n"
     ]
    }
   ],
   "source": [
    "import requests\n",
    "import pandas as pd\n",
    "import nltk\n",
    "nltk.downloader.download('vader_lexicon')\n",
    "from nltk.sentiment.vader import SentimentIntensityAnalyzer"
   ]
  },
  {
   "cell_type": "code",
   "execution_count": 2,
   "metadata": {},
   "outputs": [],
   "source": [
    "url_user = \"http://localhost:5000/chat\"\n",
    "\n",
    "data = requests.get(url_user).json()"
   ]
  },
  {
   "cell_type": "code",
   "execution_count": 3,
   "metadata": {},
   "outputs": [],
   "source": [
    "naruto_quotes = pd.DataFrame(data)"
   ]
  },
  {
   "cell_type": "code",
   "execution_count": 4,
   "metadata": {},
   "outputs": [
    {
     "data": {
      "text/html": [
       "<div>\n",
       "<style scoped>\n",
       "    .dataframe tbody tr th:only-of-type {\n",
       "        vertical-align: middle;\n",
       "    }\n",
       "\n",
       "    .dataframe tbody tr th {\n",
       "        vertical-align: top;\n",
       "    }\n",
       "\n",
       "    .dataframe thead th {\n",
       "        text-align: right;\n",
       "    }\n",
       "</style>\n",
       "<table border=\"1\" class=\"dataframe\">\n",
       "  <thead>\n",
       "    <tr style=\"text-align: right;\">\n",
       "      <th></th>\n",
       "      <th>_id</th>\n",
       "      <th>user</th>\n",
       "      <th>chatname</th>\n",
       "      <th>message</th>\n",
       "    </tr>\n",
       "  </thead>\n",
       "  <tbody>\n",
       "    <tr>\n",
       "      <th>0</th>\n",
       "      <td>{'$oid': '5fc542c0ec6f1851b4620aef'}</td>\n",
       "      <td>Naruto Uzumaki</td>\n",
       "      <td>Konohagakure</td>\n",
       "      <td>Hard work is worthless for those that don’t be...</td>\n",
       "    </tr>\n",
       "    <tr>\n",
       "      <th>1</th>\n",
       "      <td>{'$oid': '5fc542c0ec6f1851b4620af0'}</td>\n",
       "      <td>Gaara</td>\n",
       "      <td>Sunagakure</td>\n",
       "      <td>Perhaps the companionship of an evil person is...</td>\n",
       "    </tr>\n",
       "    <tr>\n",
       "      <th>2</th>\n",
       "      <td>{'$oid': '5fc542c0ec6f1851b4620af1'}</td>\n",
       "      <td>Neji Hyuuga</td>\n",
       "      <td>Konohagakure</td>\n",
       "      <td>The difference between stupidity and genius, i...</td>\n",
       "    </tr>\n",
       "    <tr>\n",
       "      <th>3</th>\n",
       "      <td>{'$oid': '5fc542c0ec6f1851b4620af2'}</td>\n",
       "      <td>Rock Lee</td>\n",
       "      <td>Konohagakure</td>\n",
       "      <td>A dropout will beat a genius through hard work</td>\n",
       "    </tr>\n",
       "    <tr>\n",
       "      <th>4</th>\n",
       "      <td>{'$oid': '5fc542c0ec6f1851b4620af3'}</td>\n",
       "      <td>Nagato</td>\n",
       "      <td>Amegakure</td>\n",
       "      <td>If you don’t share someone’s pain, you can nev...</td>\n",
       "    </tr>\n",
       "  </tbody>\n",
       "</table>\n",
       "</div>"
      ],
      "text/plain": [
       "                                    _id            user      chatname  \\\n",
       "0  {'$oid': '5fc542c0ec6f1851b4620aef'}  Naruto Uzumaki  Konohagakure   \n",
       "1  {'$oid': '5fc542c0ec6f1851b4620af0'}           Gaara    Sunagakure   \n",
       "2  {'$oid': '5fc542c0ec6f1851b4620af1'}     Neji Hyuuga  Konohagakure   \n",
       "3  {'$oid': '5fc542c0ec6f1851b4620af2'}        Rock Lee  Konohagakure   \n",
       "4  {'$oid': '5fc542c0ec6f1851b4620af3'}          Nagato     Amegakure   \n",
       "\n",
       "                                             message  \n",
       "0  Hard work is worthless for those that don’t be...  \n",
       "1  Perhaps the companionship of an evil person is...  \n",
       "2  The difference between stupidity and genius, i...  \n",
       "3     A dropout will beat a genius through hard work  \n",
       "4  If you don’t share someone’s pain, you can nev...  "
      ]
     },
     "execution_count": 4,
     "metadata": {},
     "output_type": "execute_result"
    }
   ],
   "source": [
    "naruto_quotes.head()"
   ]
  },
  {
   "cell_type": "code",
   "execution_count": 5,
   "metadata": {},
   "outputs": [],
   "source": [
    "quotes = naruto_quotes[['user', 'message']]\n"
   ]
  },
  {
   "cell_type": "code",
   "execution_count": 6,
   "metadata": {},
   "outputs": [
    {
     "data": {
      "text/html": [
       "<div>\n",
       "<style scoped>\n",
       "    .dataframe tbody tr th:only-of-type {\n",
       "        vertical-align: middle;\n",
       "    }\n",
       "\n",
       "    .dataframe tbody tr th {\n",
       "        vertical-align: top;\n",
       "    }\n",
       "\n",
       "    .dataframe thead th {\n",
       "        text-align: right;\n",
       "    }\n",
       "</style>\n",
       "<table border=\"1\" class=\"dataframe\">\n",
       "  <thead>\n",
       "    <tr style=\"text-align: right;\">\n",
       "      <th></th>\n",
       "      <th>user</th>\n",
       "      <th>message</th>\n",
       "    </tr>\n",
       "  </thead>\n",
       "  <tbody>\n",
       "    <tr>\n",
       "      <th>0</th>\n",
       "      <td>Naruto Uzumaki</td>\n",
       "      <td>Hard work is worthless for those that don’t be...</td>\n",
       "    </tr>\n",
       "    <tr>\n",
       "      <th>1</th>\n",
       "      <td>Gaara</td>\n",
       "      <td>Perhaps the companionship of an evil person is...</td>\n",
       "    </tr>\n",
       "    <tr>\n",
       "      <th>2</th>\n",
       "      <td>Neji Hyuuga</td>\n",
       "      <td>The difference between stupidity and genius, i...</td>\n",
       "    </tr>\n",
       "    <tr>\n",
       "      <th>3</th>\n",
       "      <td>Rock Lee</td>\n",
       "      <td>A dropout will beat a genius through hard work</td>\n",
       "    </tr>\n",
       "    <tr>\n",
       "      <th>4</th>\n",
       "      <td>Nagato</td>\n",
       "      <td>If you don’t share someone’s pain, you can nev...</td>\n",
       "    </tr>\n",
       "  </tbody>\n",
       "</table>\n",
       "</div>"
      ],
      "text/plain": [
       "             user                                            message\n",
       "0  Naruto Uzumaki  Hard work is worthless for those that don’t be...\n",
       "1           Gaara  Perhaps the companionship of an evil person is...\n",
       "2     Neji Hyuuga  The difference between stupidity and genius, i...\n",
       "3        Rock Lee     A dropout will beat a genius through hard work\n",
       "4          Nagato  If you don’t share someone’s pain, you can nev..."
      ]
     },
     "execution_count": 6,
     "metadata": {},
     "output_type": "execute_result"
    }
   ],
   "source": [
    "quotes.head()"
   ]
  },
  {
   "cell_type": "code",
   "execution_count": 7,
   "metadata": {},
   "outputs": [],
   "source": [
    "sia = SentimentIntensityAnalyzer()\n"
   ]
  },
  {
   "cell_type": "code",
   "execution_count": 8,
   "metadata": {},
   "outputs": [],
   "source": [
    "\n",
    "def sentimentAnalysis(sentence):\n",
    "    sia = SentimentIntensityAnalyzer()\n",
    "    polarity = sia.polarity_scores(sentence)\n",
    "    pol = polarity['compound']\n",
    "    return pol"
   ]
  },
  {
   "cell_type": "code",
   "execution_count": 10,
   "metadata": {},
   "outputs": [
    {
     "name": "stderr",
     "output_type": "stream",
     "text": [
      "C:\\Anaconda3\\lib\\site-packages\\ipykernel_launcher.py:1: SettingWithCopyWarning: \n",
      "A value is trying to be set on a copy of a slice from a DataFrame.\n",
      "Try using .loc[row_indexer,col_indexer] = value instead\n",
      "\n",
      "See the caveats in the documentation: https://pandas.pydata.org/pandas-docs/stable/user_guide/indexing.html#returning-a-view-versus-a-copy\n",
      "  \"\"\"Entry point for launching an IPython kernel.\n"
     ]
    },
    {
     "data": {
      "text/html": [
       "<div>\n",
       "<style scoped>\n",
       "    .dataframe tbody tr th:only-of-type {\n",
       "        vertical-align: middle;\n",
       "    }\n",
       "\n",
       "    .dataframe tbody tr th {\n",
       "        vertical-align: top;\n",
       "    }\n",
       "\n",
       "    .dataframe thead th {\n",
       "        text-align: right;\n",
       "    }\n",
       "</style>\n",
       "<table border=\"1\" class=\"dataframe\">\n",
       "  <thead>\n",
       "    <tr style=\"text-align: right;\">\n",
       "      <th></th>\n",
       "      <th>user</th>\n",
       "      <th>message</th>\n",
       "      <th>sentiment_compound</th>\n",
       "    </tr>\n",
       "  </thead>\n",
       "  <tbody>\n",
       "    <tr>\n",
       "      <th>0</th>\n",
       "      <td>Naruto Uzumaki</td>\n",
       "      <td>Hard work is worthless for those that don’t be...</td>\n",
       "      <td>-0.5106</td>\n",
       "    </tr>\n",
       "    <tr>\n",
       "      <th>1</th>\n",
       "      <td>Gaara</td>\n",
       "      <td>Perhaps the companionship of an evil person is...</td>\n",
       "      <td>-0.8020</td>\n",
       "    </tr>\n",
       "    <tr>\n",
       "      <th>2</th>\n",
       "      <td>Neji Hyuuga</td>\n",
       "      <td>The difference between stupidity and genius, i...</td>\n",
       "      <td>-0.4404</td>\n",
       "    </tr>\n",
       "    <tr>\n",
       "      <th>3</th>\n",
       "      <td>Rock Lee</td>\n",
       "      <td>A dropout will beat a genius through hard work</td>\n",
       "      <td>-0.1027</td>\n",
       "    </tr>\n",
       "    <tr>\n",
       "      <th>4</th>\n",
       "      <td>Nagato</td>\n",
       "      <td>If you don’t share someone’s pain, you can nev...</td>\n",
       "      <td>-0.2732</td>\n",
       "    </tr>\n",
       "  </tbody>\n",
       "</table>\n",
       "</div>"
      ],
      "text/plain": [
       "             user                                            message  \\\n",
       "0  Naruto Uzumaki  Hard work is worthless for those that don’t be...   \n",
       "1           Gaara  Perhaps the companionship of an evil person is...   \n",
       "2     Neji Hyuuga  The difference between stupidity and genius, i...   \n",
       "3        Rock Lee     A dropout will beat a genius through hard work   \n",
       "4          Nagato  If you don’t share someone’s pain, you can nev...   \n",
       "\n",
       "   sentiment_compound  \n",
       "0             -0.5106  \n",
       "1             -0.8020  \n",
       "2             -0.4404  \n",
       "3             -0.1027  \n",
       "4             -0.2732  "
      ]
     },
     "execution_count": 10,
     "metadata": {},
     "output_type": "execute_result"
    }
   ],
   "source": [
    "quotes['sentiment_compound'] = quotes['message'].apply(sentimentAnalysis)\n",
    "quotes.head()"
   ]
  },
  {
   "cell_type": "code",
   "execution_count": 11,
   "metadata": {},
   "outputs": [
    {
     "data": {
      "text/plain": [
       "user\n",
       "Gaara            -0.8020\n",
       "Haku              0.0000\n",
       "Itachi Uchiha    -0.3818\n",
       "Kabuto            0.3400\n",
       "Nagato           -0.2732\n",
       "Nara Shikamaru    0.0000\n",
       "Naruto Uzumaki   -0.5106\n",
       "Neji Hyuuga      -0.4404\n",
       "Obito Uchiha      0.3089\n",
       "Pain             -0.6369\n",
       "Rock Lee         -0.1027\n",
       "Sasuke Uchiha    -0.2500\n",
       "Tobirama Senju   -0.1796\n",
       "Name: sentiment_compound, dtype: float64"
      ]
     },
     "execution_count": 11,
     "metadata": {},
     "output_type": "execute_result"
    }
   ],
   "source": [
    "quotes.groupby(['user'])['sentiment_compound'].mean()\n"
   ]
  }
 ],
 "metadata": {
  "kernelspec": {
   "display_name": "Python 3",
   "language": "python",
   "name": "python3"
  },
  "language_info": {
   "codemirror_mode": {
    "name": "ipython",
    "version": 3
   },
   "file_extension": ".py",
   "mimetype": "text/x-python",
   "name": "python",
   "nbconvert_exporter": "python",
   "pygments_lexer": "ipython3",
   "version": "3.7.4"
  }
 },
 "nbformat": 4,
 "nbformat_minor": 4
}
